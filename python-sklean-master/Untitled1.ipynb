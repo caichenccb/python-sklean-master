{
 "cells": [
  {
   "cell_type": "code",
   "execution_count": 2,
   "metadata": {
    "collapsed": true
   },
   "outputs": [],
   "source": [
    "import pandas as pd \n",
    "import numpy as np\n",
    "import seaborn as sns \n",
    "import matplotlib.pyplot as plt\n",
    "\n",
    "cc1=pd.read_excel(\"diyige.xlsx\",encoding=\"gbk\")\n",
    "X=cc1[[\"2015 SR\",\"2015 总分\",\"2015 CY\",\"2015 HJ\",\"2015 WJ\",\"2015 SS\"]]\n",
    "y=cc1[\"2020 SR\"]"
   ]
  },
  {
   "cell_type": "code",
   "execution_count": 7,
   "metadata": {},
   "outputs": [
    {
     "name": "stdout",
     "output_type": "stream",
     "text": [
      "0\t2\t3\t4\t5\t6\t6\t7\t8\t9\t8\t9\t10\t11\t12\t"
     ]
    }
   ],
   "source": [
    "for i  in range(1,6):\n",
    "    for j in range(1,i+1):\n",
    "        j=j-1\n",
    "        print((i-1)*2+j,end=\"\\t\")\n",
    "        "
   ]
  },
  {
   "cell_type": "code",
   "execution_count": null,
   "metadata": {
    "collapsed": true
   },
   "outputs": [],
   "source": []
  },
  {
   "cell_type": "code",
   "execution_count": null,
   "metadata": {
    "collapsed": true
   },
   "outputs": [],
   "source": []
  },
  {
   "cell_type": "code",
   "execution_count": null,
   "metadata": {
    "collapsed": true
   },
   "outputs": [],
   "source": []
  },
  {
   "cell_type": "code",
   "execution_count": null,
   "metadata": {
    "collapsed": true
   },
   "outputs": [],
   "source": []
  },
  {
   "cell_type": "code",
   "execution_count": null,
   "metadata": {
    "collapsed": true
   },
   "outputs": [],
   "source": []
  },
  {
   "cell_type": "code",
   "execution_count": null,
   "metadata": {
    "collapsed": true
   },
   "outputs": [],
   "source": []
  },
  {
   "cell_type": "code",
   "execution_count": null,
   "metadata": {
    "collapsed": true
   },
   "outputs": [],
   "source": []
  },
  {
   "cell_type": "code",
   "execution_count": 5,
   "metadata": {
    "collapsed": true
   },
   "outputs": [],
   "source": [
    "import pandas as pd\n",
    "from sklearn.model_selection import train_test_split\n",
    "from sklearn.ensemble import GradientBoostingClassifier\n",
    "import joblib\n",
    "from sklearn.model_selection import GridSearchCV #网格搜索\n",
    "from sklearn.model_selection import StratifiedKFold #交叉验证\n",
    "\n"
   ]
  },
  {
   "cell_type": "code",
   "execution_count": 15,
   "metadata": {},
   "outputs": [
    {
     "name": "stderr",
     "output_type": "stream",
     "text": [
      "D:\\anaconda\\lib\\site-packages\\sklearn\\utils\\validation.py:73: DataConversionWarning: A column-vector y was passed when a 1d array was expected. Please change the shape of y to (n_samples, ), for example using ravel().\n",
      "  return f(**kwargs)\n"
     ]
    },
    {
     "data": {
      "text/plain": [
       "['train_model_result4.m']"
      ]
     },
     "execution_count": 15,
     "metadata": {},
     "output_type": "execute_result"
    }
   ],
   "source": [
    "from sklearn.datasets import load_boston\n",
    "from sklearn.preprocessing import StandardScaler\n",
    "from sklearn.svm import SVR\n",
    "from sklearn.metrics import r2_score, mean_squared_error, mean_absolute_error\n",
    "import numpy as np\n",
    "ss_x = StandardScaler()\n",
    "x_train = ss_x.fit_transform(x_train)\n",
    "x_test = ss_x.transform(x_test)\n",
    "ss_y = StandardScaler()\n",
    "y_train = ss_y.fit_transform(np.array(y_train).reshape(-1, 1))\n",
    "y_test = ss_y.transform(np.array(y_test).reshape(-1, 1))\n",
    "gbr = GradientBoostingClassifier(min_samples_split=200,min_samples_leaf=200)\n",
    "\n",
    "gbr.fit(x_train, y_train.astype('int'))\n",
    "joblib.dump(gbr, 'train_model_result4.m')   # 保存模型"
   ]
  },
  {
   "cell_type": "code",
   "execution_count": 26,
   "metadata": {},
   "outputs": [
    {
     "name": "stdout",
     "output_type": "stream",
     "text": [
      "0.6887871853546911\n",
      "0.6917808219178082\n"
     ]
    },
    {
     "data": {
      "text/plain": [
       "array([0, 0, 0, 0, 0, 0, 0, 0, 0, 0, 0, 0, 0, 0, 0, 0, 0, 0, 0, 0, 0, 0,\n",
       "       0, 0, 0, 0, 0, 0, 0, 0, 0, 0, 0, 0, 0, 0, 0, 0, 0, 0, 0, 0, 0, 0,\n",
       "       0, 0, 0, 0, 0, 0, 0, 0, 0, 0, 0, 0, 0, 0, 0, 0, 0, 0, 0, 0, 0, 0,\n",
       "       0, 0, 0, 0, 0, 0, 0, 0, 0, 0, 0, 0, 0, 0, 0, 0, 0, 0, 0, 0, 0, 0,\n",
       "       0, 0, 0, 0, 0, 0, 0, 0, 0, 0, 0, 0, 0, 0, 0, 0, 0, 0, 0, 0, 0, 0,\n",
       "       0, 0, 0, 0, 0, 0, 0, 0, 0, 0, 0, 0, 0, 0, 0, 0, 0, 0, 0, 0, 0, 0,\n",
       "       0, 0, 0, 0, 0, 0, 0, 0, 0, 0, 0, 0, 0, 0])"
      ]
     },
     "execution_count": 26,
     "metadata": {},
     "output_type": "execute_result"
    }
   ],
   "source": [
    "\n",
    "y_gbr = gbr.predict(x_train)\n",
    "y_gbr1 = gbr.predict(x_test)\n",
    "acc_train = gbr.score(x_train, y_train.astype('int'))\n",
    "acc_test = gbr.score(x_test, y_test.astype('int'))\n",
    "print(acc_train)\n",
    "print(acc_test)\n",
    "y_gbr1"
   ]
  },
  {
   "cell_type": "code",
   "execution_count": 25,
   "metadata": {},
   "outputs": [
    {
     "data": {
      "text/plain": [
       "array([0])"
      ]
     },
     "execution_count": 25,
     "metadata": {},
     "output_type": "execute_result"
    }
   ],
   "source": [
    "tt=np.array([\"1.649\",\"0.82697\",\"0.86468\",\"0.90721\",\"0.39356\",\"1.0448\"]).reshape(1, -1)\n",
    "tt_p = gbr.predict(tt)\n",
    "tt_p"
   ]
  },
  {
   "cell_type": "code",
   "execution_count": 21,
   "metadata": {},
   "outputs": [
    {
     "data": {
      "image/png": "[encoded data removed]",
      "text/plain": [
       "<Figure size 432x288 with 1 Axes>"
      ]
     },
     "metadata": {},
     "output_type": "display_data"
    }
   ],
   "source": [
    "import numpy as np\n",
    "import matplotlib.pyplot as plt\n",
    "\n",
    "from sklearn import datasets,ensemble\n",
    "from sklearn.model_selection import train_test_split\n",
    "def test_GradientBoostingClassifier_num(*data):\n",
    "    '''\n",
    "    测试 GradientBoostingClassifier 的预测性能随 n_estimators 参数的影响\n",
    "    '''\n",
    "    X_train,X_test,y_train,y_test=data\n",
    "    nums=np.arange(1,200,step=10)\n",
    "    fig=plt.figure()\n",
    "    ax=fig.add_subplot(1,1,1)\n",
    "    testing_scores=[]\n",
    "    training_scores=[]\n",
    "    for num in nums:\n",
    "        clf=ensemble.GradientBoostingClassifier(n_estimators=num)\n",
    "        clf.fit(X_train,y_train)\n",
    "        training_scores.append(clf.score(X_train,y_train))\n",
    "        testing_scores.append(clf.score(X_test,y_test))\n",
    "    ax.plot(nums,training_scores,label=\"Training Score\")\n",
    "    ax.plot(nums,testing_scores,label=\"Testing Score\")\n",
    "    ax.set_xlabel(\"estimator num\")\n",
    "    ax.set_ylabel(\"score\")\n",
    "    ax.legend(loc=\"lower right\")\n",
    "    ax.set_ylim(0,1.05)\n",
    "    plt.suptitle(\"GradientBoostingClassifier\")\n",
    "    plt.show()\n",
    "    \n",
    "# 调用 test_GradientBoostingClassifier_num\n",
    "test_GradientBoostingClassifier_num(x_train,x_test,y_train.astype(\"int\"),y_test.astype(\"int\"))"
   ]
  },
  {
   "cell_type": "code",
   "execution_count": 22,
   "metadata": {},
   "outputs": [
    {
     "data": {
      "image/png": "[encoded data removed]",
      "text/plain": [
       "<Figure size 432x288 with 1 Axes>"
      ]
     },
     "metadata": {},
     "output_type": "display_data"
    }
   ],
   "source": [
    "def test_GradientBoostingClassifier_maxdepth(*data):\n",
    "    '''\n",
    "    测试 GradientBoostingClassifier 的预测性能随 max_depth 参数的影响\n",
    "    '''\n",
    "    X_train,X_test,y_train,y_test=data\n",
    "    maxdepths=np.arange(1,50)\n",
    "    fig=plt.figure()\n",
    "    ax=fig.add_subplot(1,1,1)\n",
    "    testing_scores=[]\n",
    "    training_scores=[]\n",
    "    for maxdepth in maxdepths:\n",
    "        clf=ensemble.GradientBoostingClassifier(max_depth=maxdepth,max_leaf_nodes=None)\n",
    "        clf.fit(X_train,y_train)\n",
    "        training_scores.append(clf.score(X_train,y_train))\n",
    "        testing_scores.append(clf.score(X_test,y_test))\n",
    "    ax.plot(maxdepths,training_scores,label=\"Training Score\")\n",
    "    ax.plot(maxdepths,testing_scores,label=\"Testing Score\")\n",
    "    ax.set_xlabel(\"max_depth\")\n",
    "    ax.set_ylabel(\"score\")\n",
    "    ax.legend(loc=\"lower right\")\n",
    "    ax.set_ylim(0,1.05)\n",
    "    plt.suptitle(\"GradientBoostingClassifier\")\n",
    "    plt.show()\n",
    "    \n",
    "# 调用 test_GradientBoostingClassifier_maxdepth\n",
    "test_GradientBoostingClassifier_maxdepth(x_train,x_test,y_train.astype(\"int\"),y_test.astype(\"int\"))"
   ]
  },
  {
   "cell_type": "code",
   "execution_count": 23,
   "metadata": {},
   "outputs": [
    {
     "data": {
      "image/png": "[encoded data removed]",
      "text/plain": [
       "<Figure size 432x288 with 1 Axes>"
      ]
     },
     "metadata": {},
     "output_type": "display_data"
    }
   ],
   "source": [
    "def test_GradientBoostingClassifier_learning(*data):\n",
    "    '''\n",
    "    测试 GradientBoostingClassifier 的预测性能随学习率参数的影响\n",
    "    '''\n",
    "    X_train,X_test,y_train,y_test=data\n",
    "    learnings=np.linspace(0.01,1.0)\n",
    "    fig=plt.figure()\n",
    "    ax=fig.add_subplot(1,1,1)\n",
    "    testing_scores=[]\n",
    "    training_scores=[]\n",
    "    for learning in learnings:\n",
    "        clf=ensemble.GradientBoostingClassifier(learning_rate=learning)\n",
    "        clf.fit(X_train,y_train)\n",
    "        training_scores.append(clf.score(X_train,y_train))\n",
    "        testing_scores.append(clf.score(X_test,y_test))\n",
    "    ax.plot(learnings,training_scores,label=\"Training Score\")\n",
    "    ax.plot(learnings,testing_scores,label=\"Testing Score\")\n",
    "    ax.set_xlabel(\"learning_rate\")\n",
    "    ax.set_ylabel(\"score\")\n",
    "    ax.legend(loc=\"lower right\")\n",
    "    ax.set_ylim(0,1.05)\n",
    "    plt.suptitle(\"GradientBoostingClassifier\")\n",
    "    plt.show()\n",
    "    \n",
    "# 调用 test_GradientBoostingClassifier_learning\n",
    "test_GradientBoostingClassifier_learning(x_train,x_test,y_train.astype(\"int\"),y_test.astype(\"int\"))"
   ]
  },
  {
   "cell_type": "code",
   "execution_count": 24,
   "metadata": {},
   "outputs": [
    {
     "data": {
      "image/png": "[encoded data removed]",
      "text/plain": [
       "<Figure size 432x288 with 1 Axes>"
      ]
     },
     "metadata": {},
     "output_type": "display_data"
    }
   ],
   "source": [
    "def test_GradientBoostingClassifier_subsample(*data):\n",
    "    '''\n",
    "    测试 GradientBoostingClassifier 的预测性能随 subsample 参数的影响\n",
    "    '''\n",
    "    X_train,X_test,y_train,y_test=data\n",
    "    fig=plt.figure()\n",
    "    ax=fig.add_subplot(1,1,1)\n",
    "    subsamples=np.linspace(0.01,1.0)\n",
    "    testing_scores=[]\n",
    "    training_scores=[]\n",
    "    for subsample in subsamples:\n",
    "        clf=ensemble.GradientBoostingClassifier(subsample=subsample)\n",
    "        clf.fit(X_train,y_train)\n",
    "        training_scores.append(clf.score(X_train,y_train))\n",
    "        testing_scores.append(clf.score(X_test,y_test))\n",
    "    ax.plot(subsamples,training_scores,label=\"Training Score\")\n",
    "    ax.plot(subsamples,testing_scores,label=\"Training Score\")\n",
    "    ax.set_xlabel(\"subsample\")\n",
    "    ax.set_ylabel(\"score\")\n",
    "    ax.legend(loc=\"lower right\")\n",
    "    ax.set_ylim(0,1.05)\n",
    "    plt.suptitle(\"GradientBoostingClassifier\")\n",
    "    plt.show()\n",
    "    \n",
    "# 调用 test_GradientBoostingClassifier_subsample\n",
    "test_GradientBoostingClassifier_subsample(x_train,x_test,y_train.astype(\"int\"),y_test.astype(\"int\"))"
   ]
  },
  {
   "cell_type": "code",
   "execution_count": 9,
   "metadata": {
    "scrolled": true
   },
   "outputs": [
    {
     "name": "stdout",
     "output_type": "stream",
     "text": [
      "MAE： 0.7840392049863941\n",
      "MSE： 0.968111775506175\n",
      "EVS： 0.034728851024987684\n",
      "R2： 0.031888224493825\n"
     ]
    }
   ],
   "source": [
    "from sklearn.datasets import load_boston\n",
    "from sklearn.svm import SVR\n",
    "from sklearn.preprocessing import StandardScaler\n",
    "from sklearn.metrics import mean_absolute_error,mean_squared_error,explained_variance_score,r2_score\n",
    "from sklearn.model_selection import train_test_split\n",
    "import numpy as np\n",
    "#加载数据集\n",
    "import pandas as pd \n",
    "import numpy as np\n",
    "import seaborn as sns \n",
    "import matplotlib.pyplot as plt\n",
    "from sklearn.model_selection import train_test_split\n",
    "cc1=pd.read_excel(\"diyige.xlsx\",encoding=\"gbk\")\n",
    "x=cc1[[\"2015 SR\",\"2015 CY\",\"2015 HJ\",\"2015 WJ\",\"2015 SS\"]]\n",
    "y=cc1[[\"2020 SR\"]]\n",
    "\n",
    "# 拆分数据集\n",
    "x_train,x_test,y_train,y_test=train_test_split(x,y,test_size=0.2,random_state=10)\n",
    "# 预处理\n",
    "y_train = np.array(y_train).reshape(-1, 1)\n",
    "y_test = np.array(y_test).reshape(-1, 1)\n",
    "x_train = StandardScaler().fit_transform(x_train)\n",
    "x_test = StandardScaler().fit_transform(x_test)\n",
    "y_train = StandardScaler().fit_transform(y_train).ravel()\n",
    "y_test = StandardScaler().fit_transform(y_test).ravel()\n",
    "\n",
    "#创建svR实例\n",
    "svr=SVR(C=1, kernel='rbf', epsilon=0.2)\n",
    "svr=svr.fit(x_train,y_train)\n",
    "#预测\n",
    "svr_predict=svr.predict(x_test)\n",
    "#评价结果\n",
    "mae = mean_absolute_error(y_test, svr_predict)\n",
    "mse = mean_squared_error(y_test, svr_predict)\n",
    "evs = explained_variance_score(y_test, svr_predict)\n",
    "r2 = r2_score(y_test, svr_predict)\n",
    "print(\"MAE：\", mae)\n",
    "print(\"MSE：\", mse)\n",
    "print(\"EVS：\", evs)\n",
    "print(\"R2：\", r2)"
   ]
  },
  {
   "cell_type": "code",
   "execution_count": 10,
   "metadata": {},
   "outputs": [
    {
     "name": "stdout",
     "output_type": "stream",
     "text": [
      "最佳度量值: 0.06350229657882585\n",
      "最佳参数: {'C': 0.5, 'epsilon': 0.01, 'gamma': 0.1}\n",
      "最佳模型: SVR(C=0.5, epsilon=0.01, gamma=0.1)\n",
      "MAE： 0.7815211718615375\n",
      "MSE： 0.9592987795584892\n",
      "EVS： 0.04271655031851784\n",
      "R2： 0.04070122044151081\n"
     ]
    }
   ],
   "source": [
    "from sklearn.datasets import load_boston\n",
    "from sklearn.model_selection import train_test_split\n",
    "from sklearn.preprocessing import StandardScaler\n",
    "from sklearn.model_selection import GridSearchCV\n",
    "from sklearn.svm import SVR\n",
    "from sklearn.metrics import mean_absolute_error, mean_squared_error, explained_variance_score, r2_score\n",
    "import numpy as np\n",
    "# 设置超参数\n",
    "C = [0.1, 0.2, 0.5, 0.8, 0.9, 1, 2, 5, 10]\n",
    "kernel = 'rbf'\n",
    "gamma = [0.001, 0.01, 0.1, 0.2, 0.5, 0.8]\n",
    "epsilon = [0.01, 0.05, 0.1, 0.2, 0.5, 0.8]\n",
    "# 参数字典\n",
    "params_dict = {\n",
    "    'C': C,\n",
    "    'gamma': gamma,\n",
    "    'epsilon': epsilon\n",
    "}\n",
    "\n",
    "# 创建SVR实例\n",
    "svr = SVR()\n",
    "\n",
    "# 网格参数搜索\n",
    "gsCV = GridSearchCV(\n",
    "    estimator=svr,\n",
    "    param_grid=params_dict,\n",
    "    n_jobs=2,\n",
    "    scoring='r2',\n",
    "    cv=6\n",
    ")\n",
    "gsCV.fit(x_train, y_train)\n",
    "# 输出参数信息\n",
    "print(\"最佳度量值:\", gsCV.best_score_)\n",
    "print(\"最佳参数:\", gsCV.best_params_)\n",
    "print(\"最佳模型:\", gsCV.best_estimator_)\n",
    "\n",
    "# 用最佳参数生成模型\n",
    "svr = SVR(C=gsCV.best_params_['C'], kernel=kernel, gamma=gsCV.best_params_['gamma'],\n",
    "          epsilon=gsCV.best_params_['epsilon'])\n",
    "\n",
    "# 获取在训练集的模型\n",
    "svr.fit(x_train, y_train)\n",
    "\n",
    "# 预测结果\n",
    "svr_predict = svr.predict(x_test)\n",
    "\n",
    "# 模型评测\n",
    "mae = mean_absolute_error(y_test, svr_predict)\n",
    "mse = mean_squared_error(y_test, svr_predict)\n",
    "evs = explained_variance_score(y_test, svr_predict)\n",
    "r2 = r2_score(y_test, svr_predict)\n",
    "print(\"MAE：\", mae)\n",
    "print(\"MSE：\", mse)\n",
    "print(\"EVS：\", evs)\n",
    "print(\"R2：\", r2)\n"
   ]
  },
  {
   "cell_type": "code",
   "execution_count": null,
   "metadata": {
    "collapsed": true
   },
   "outputs": [],
   "source": []
  },
  {
   "cell_type": "code",
   "execution_count": null,
   "metadata": {
    "collapsed": true
   },
   "outputs": [],
   "source": []
  },
  {
   "cell_type": "code",
   "execution_count": null,
   "metadata": {
    "collapsed": true
   },
   "outputs": [],
   "source": [
    "\n"
   ]
  },
  {
   "cell_type": "code",
   "execution_count": null,
   "metadata": {
    "collapsed": true
   },
   "outputs": [],
   "source": []
  }
 ],
 "metadata": {
  "kernelspec": {
   "display_name": "Python 3",
   "language": "python",
   "name": "python3"
  },
  "language_info": {
   "codemirror_mode": {
    "name": "ipython",
    "version": 3
   },
   "file_extension": ".py",
   "mimetype": "text/x-python",
   "name": "python",
   "nbconvert_exporter": "python",
   "pygments_lexer": "ipython3",
   "version": "3.6.3"
  }
 },
 "nbformat": 4,
 "nbformat_minor": 2
}
