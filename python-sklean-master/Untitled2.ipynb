{
 "cells": [
  {
   "cell_type": "code",
   "execution_count": 5,
   "metadata": {},
   "outputs": [],
   "source": [
    "import pandas as pd \n",
    "import numpy as np\n",
    "import seaborn as sns \n",
    "import matplotlib.pyplot as plt\n",
    "from sklearn.model_selection import train_test_split\n",
    "cc1=pd.read_excel(\"diyige.xlsx\",encoding=\"gbk\")\n",
    "X=cc1[[\"2015 SR\",\"2015 总分\",\"2015 CY\",\"2015 HJ\",\"2015 WJ\",\"2015 SS\"]]\n",
    "y=cc1[[\"2020 SR\"]]\n",
    "x_train,X_test,y_train,y_test=train_test_split(X,y,train_size=0.8)"
   ]
  },
  {
   "cell_type": "code",
   "execution_count": 2,
   "metadata": {
    "collapsed": true
   },
   "outputs": [],
   "source": [
    "import pandas as pd\n",
    "import numpy as np\n",
    "import matplotlib.pyplot as plt\n",
    "import seaborn as sns\n",
    "import xgboost as xgb\n",
    "from sklearn.model_selection import train_test_split\n",
    "from sklearn import preprocessing \n",
    "from sklearn.model_selection import GridSearchCV\n",
    "from sklearn.linear_model import LogisticRegression\n",
    "from sklearn.ensemble import RandomForestClassifier\n",
    "from sklearn.ensemble import GradientBoostingClassifier\n",
    "from sklearn.model_selection import train_test_split\n",
    "from sklearn.preprocessing import LabelEncoder\n",
    " \n",
    "import warnings\n",
    "warnings.filterwarnings('ignore')"
   ]
  },
  {
   "cell_type": "code",
   "execution_count": 3,
   "metadata": {},
   "outputs": [
    {
     "ename": "NameError",
     "evalue": "name 'X_train' is not defined",
     "output_type": "error",
     "traceback": [
      "\u001b[1;31m---------------------------------------------------------------------------\u001b[0m",
      "\u001b[1;31mNameError\u001b[0m                                 Traceback (most recent call last)",
      "\u001b[1;32m<ipython-input-3-426af1a26d05>\u001b[0m in \u001b[0;36m<module>\u001b[1;34m()\u001b[0m\n\u001b[0;32m      2\u001b[0m \u001b[1;32mfrom\u001b[0m \u001b[0msklearn\u001b[0m\u001b[1;33m.\u001b[0m\u001b[0msvm\u001b[0m \u001b[1;32mimport\u001b[0m \u001b[0mSVC\u001b[0m\u001b[1;33m\u001b[0m\u001b[0m\n\u001b[0;32m      3\u001b[0m \u001b[0mclassifier\u001b[0m \u001b[1;33m=\u001b[0m \u001b[0mSVC\u001b[0m\u001b[1;33m(\u001b[0m\u001b[0mkernel\u001b[0m \u001b[1;33m=\u001b[0m \u001b[1;34m'rbf'\u001b[0m\u001b[1;33m,\u001b[0m \u001b[0mrandom_state\u001b[0m \u001b[1;33m=\u001b[0m \u001b[1;36m0\u001b[0m\u001b[1;33m)\u001b[0m\u001b[1;33m\u001b[0m\u001b[0m\n\u001b[1;32m----> 4\u001b[1;33m \u001b[0mclassifier\u001b[0m\u001b[1;33m.\u001b[0m\u001b[0mfit\u001b[0m\u001b[1;33m(\u001b[0m\u001b[0mX_train\u001b[0m\u001b[1;33m,\u001b[0m \u001b[0my_train\u001b[0m\u001b[1;33m.\u001b[0m\u001b[0mastype\u001b[0m\u001b[1;33m(\u001b[0m\u001b[1;34m\"int\"\u001b[0m\u001b[1;33m)\u001b[0m\u001b[1;33m)\u001b[0m\u001b[1;33m\u001b[0m\u001b[0m\n\u001b[0m",
      "\u001b[1;31mNameError\u001b[0m: name 'X_train' is not defined"
     ]
    }
   ],
   "source": [
    "\n",
    "from sklearn.svm import SVC\n",
    "classifier = SVC(kernel = 'rbf', random_state = 0)\n",
    "classifier.fit(X_train, y_train.astype(\"int\"))\n"
   ]
  },
  {
   "cell_type": "code",
   "execution_count": null,
   "metadata": {},
   "outputs": [],
   "source": []
  },
  {
   "cell_type": "code",
   "execution_count": 6,
   "metadata": {},
   "outputs": [
    {
     "name": "stdout",
     "output_type": "stream",
     "text": [
      "R-squared value of linear SVR is 0.10054274963752408\n"
     ]
    },
    {
     "ename": "NameError",
     "evalue": "name 'ss_y' is not defined",
     "output_type": "error",
     "traceback": [
      "\u001b[1;31m---------------------------------------------------------------------------\u001b[0m",
      "\u001b[1;31mNameError\u001b[0m                                 Traceback (most recent call last)",
      "\u001b[1;32m<ipython-input-6-a197498b2559>\u001b[0m in \u001b[0;36m<module>\u001b[1;34m()\u001b[0m\n\u001b[0;32m     15\u001b[0m \u001b[1;33m\u001b[0m\u001b[0m\n\u001b[0;32m     16\u001b[0m \u001b[0mprint\u001b[0m\u001b[1;33m(\u001b[0m\u001b[1;34m'R-squared value of linear SVR is'\u001b[0m\u001b[1;33m,\u001b[0m\u001b[0mlinear_svr\u001b[0m\u001b[1;33m.\u001b[0m\u001b[0mscore\u001b[0m\u001b[1;33m(\u001b[0m\u001b[0mX_test\u001b[0m\u001b[1;33m,\u001b[0m\u001b[0my_test\u001b[0m\u001b[1;33m)\u001b[0m\u001b[1;33m)\u001b[0m\u001b[1;33m\u001b[0m\u001b[0m\n\u001b[1;32m---> 17\u001b[1;33m print('The mean squared error of linear SVR is',mean_squared_error(ss_y.inverse_transform(y_test),\n\u001b[0m\u001b[0;32m     18\u001b[0m                                                                    ss_y.inverse_transform(linear_svr_y_predict)))\n\u001b[0;32m     19\u001b[0m print('The mean absolute error of linear SVR is',mean_absolute_error(ss_y.inverse_transform(y_test),\n",
      "\u001b[1;31mNameError\u001b[0m: name 'ss_y' is not defined"
     ]
    }
   ],
   "source": [
    "from sklearn.svm import SVR\n",
    "\n",
    "linear_svr=SVR(kernel='linear')   #线性核函数初始化的SVR\n",
    "linear_svr.fit(x_train,y_train)\n",
    "linear_svr_y_predict=linear_svr.predict(X_test)\n",
    "\n",
    "poly_svr=SVR(kernel='poly')   #多项式核函数初始化的SVR\n",
    "poly_svr.fit(x_train,y_train)\n",
    "poly_svr_y_predict=poly_svr.predict(X_test)\n",
    "\n",
    "rbf_svr=SVR(kernel='rbf')   #径向基核函数初始化的SVR\n",
    "rbf_svr.fit(x_train,y_train)\n",
    "rbf_svr_y_predict=rbf_svr.predict(X_test)\n",
    "from sklearn.metrics import r2_score,mean_absolute_error,mean_squared_error\n",
    "\n",
    "print('R-squared value of linear SVR is',linear_svr.score(X_test,y_test))\n",
    "print('The mean squared error of linear SVR is',mean_squared_error(ss_y.inverse_transform(y_test),\n",
    "                                                                   ss_y.inverse_transform(linear_svr_y_predict)))\n",
    "print('The mean absolute error of linear SVR is',mean_absolute_error(ss_y.inverse_transform(y_test),\n",
    "                                                                     ss_y.inverse_transform(linear_svr_y_predict)))\n",
    "print(' ')\n",
    "print('R-squared value of Poly SVR is',poly_svr.score(X_test,y_test))\n",
    "print('The mean squared error of Poly SVR is',mean_squared_error(ss_y.inverse_transform(y_test),\n",
    "                                                                 ss_y.inverse_transform(poly_svr_y_predict)))\n",
    "print('The mean absolute error of Poly SVR is',mean_absolute_error(ss_y.inverse_transform(y_test),\n",
    "                                                                   ss_y.inverse_transform(poly_svr_y_predict)))\n",
    "print(' ')\n",
    "print('R-squared value of RBF SVR is',rbf_svr.score(X_test,y_test))\n",
    "print('The mean squared error of RBF SVR is',mean_squared_error(ss_y.inverse_transform(y_test),\n",
    "                                                                ss_y.inverse_transform(rbf_svr_y_predict)))\n",
    "print('The mean absolute error of RBF SVR is',mean_absolute_error(ss_y.inverse_transform(y_test),\n",
    "                                                                  ss_y.inverse_transform(rbf_svr_y_predict)))"
   ]
  },
  {
   "cell_type": "code",
   "execution_count": 11,
   "metadata": {},
   "outputs": [
    {
     "data": {
      "text/plain": [
       "array([[6.3200e-03, 1.8000e+01, 2.3100e+00, ..., 1.5300e+01, 3.9690e+02,\n",
       "        4.9800e+00],\n",
       "       [2.7310e-02, 0.0000e+00, 7.0700e+00, ..., 1.7800e+01, 3.9690e+02,\n",
       "        9.1400e+00],\n",
       "       [2.7290e-02, 0.0000e+00, 7.0700e+00, ..., 1.7800e+01, 3.9283e+02,\n",
       "        4.0300e+00],\n",
       "       ...,\n",
       "       [6.0760e-02, 0.0000e+00, 1.1930e+01, ..., 2.1000e+01, 3.9690e+02,\n",
       "        5.6400e+00],\n",
       "       [1.0959e-01, 0.0000e+00, 1.1930e+01, ..., 2.1000e+01, 3.9345e+02,\n",
       "        6.4800e+00],\n",
       "       [4.7410e-02, 0.0000e+00, 1.1930e+01, ..., 2.1000e+01, 3.9690e+02,\n",
       "        7.8800e+00]])"
      ]
     },
     "execution_count": 11,
     "metadata": {},
     "output_type": "execute_result"
    }
   ],
   "source": [
    "from sklearn.datasets import load_boston\n",
    "from sklearn.preprocessing import StandardScaler\n",
    "from sklearn.svm import SVR\n",
    "from sklearn.metrics import r2_score, mean_squared_error, mean_absolute_error\n",
    "import numpy as np\n",
    "\n",
    "# 1 准备数据\n",
    "# 读取波士顿地区房价信息\n",
    "\n",
    "boston = load_boston()\n",
    "x = boston.data\n",
    "y = boston.target\n",
    "x\n"
   ]
  },
  {
   "cell_type": "code",
   "execution_count": null,
   "metadata": {
    "collapsed": true
   },
   "outputs": [],
   "source": []
  },
  {
   "cell_type": "code",
   "execution_count": null,
   "metadata": {
    "collapsed": true
   },
   "outputs": [],
   "source": []
  },
  {
   "cell_type": "code",
   "execution_count": null,
   "metadata": {
    "collapsed": true
   },
   "outputs": [],
   "source": []
  }
 ],
 "metadata": {
  "kernelspec": {
   "display_name": "Python 3",
   "language": "python",
   "name": "python3"
  },
  "language_info": {
   "codemirror_mode": {
    "name": "ipython",
    "version": 3
   },
   "file_extension": ".py",
   "mimetype": "text/x-python",
   "name": "python",
   "nbconvert_exporter": "python",
   "pygments_lexer": "ipython3",
   "version": "3.6.3"
  }
 },
 "nbformat": 4,
 "nbformat_minor": 2
}
